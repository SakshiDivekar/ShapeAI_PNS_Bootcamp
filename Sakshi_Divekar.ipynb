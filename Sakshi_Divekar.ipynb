{
  "nbformat": 4,
  "nbformat_minor": 0,
  "metadata": {
    "colab": {
      "name": "Sakshi_Divekar.ipynb",
      "provenance": [],
      "collapsed_sections": []
    },
    "kernelspec": {
      "name": "python3",
      "display_name": "Python 3"
    },
    "language_info": {
      "name": "python"
    }
  },
  "cells": [
    {
      "cell_type": "code",
      "metadata": {
        "colab": {
          "base_uri": "https://localhost:8080/"
        },
        "id": "ANI-9vV_iFaj",
        "outputId": "ce52002c-46b6-4170-b2e2-4b68480fcaef"
      },
      "source": [
        "import hashlib\n",
        "def main():\n",
        "    text = \"Hello World!\"\n",
        "    textUtf8 = text.encode(\"utf-8\")\n",
        "    hash = hashlib.md5 ( textUtf8 )\n",
        "    hexa = hash.hexdigest()\n",
        "    print ( hexa )\n",
        "    return\n",
        "main()"
      ],
      "execution_count": 8,
      "outputs": [
        {
          "output_type": "stream",
          "text": [
            "ed076287532e86365e841e92bfc50d8c\n"
          ],
          "name": "stdout"
        }
      ]
    }
  ]
}